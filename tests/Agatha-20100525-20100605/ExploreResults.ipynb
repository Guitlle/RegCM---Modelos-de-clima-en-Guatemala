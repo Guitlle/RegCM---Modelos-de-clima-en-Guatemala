{
 "cells": [
  {
   "cell_type": "markdown",
   "metadata": {},
   "source": [
    "# Explorando la salida de la simulación"
   ]
  },
  {
   "cell_type": "code",
   "execution_count": null,
   "metadata": {},
   "outputs": [],
   "source": [
    "import netCDF4 as nc\n",
    "import numpy as np\n",
    "import rasterio\n",
    "import geopandas as gp\n",
    "import pandas as pd\n",
    "import xarray as xa\n",
    "import matplotlib as mpl\n",
    "import matplotlib.pyplot as plt\n",
    "\n",
    "%matplotlib notebook"
   ]
  },
  {
   "cell_type": "code",
   "execution_count": null,
   "metadata": {},
   "outputs": [],
   "source": [
    "atm5 = xa.open_dataset(\"../../../../../DATOS/RegCM/__RUNS/RUN01/output/test_001_ATM.2010052500.nc\")"
   ]
  },
  {
   "cell_type": "code",
   "execution_count": null,
   "metadata": {},
   "outputs": [],
   "source": [
    "atm5.close()"
   ]
  },
  {
   "cell_type": "code",
   "execution_count": null,
   "metadata": {},
   "outputs": [],
   "source": [
    "atm5.attrs"
   ]
  },
  {
   "cell_type": "code",
   "execution_count": null,
   "metadata": {},
   "outputs": [],
   "source": [
    "atm5.variables"
   ]
  },
  {
   "cell_type": "code",
   "execution_count": null,
   "metadata": {},
   "outputs": [],
   "source": [
    "surf05 = xa.open_dataset(\"../../../../../DATOS/RegCM/__RUNS/RUN01/output/test_001_SRF.2010052500.nc\")\n",
    "surf06 = xa.open_dataset(\"../../../../../DATOS/RegCM/__RUNS/RUN01/output/test_001_SRF.2010060100.nc\")"
   ]
  },
  {
   "cell_type": "code",
   "execution_count": null,
   "metadata": {},
   "outputs": [],
   "source": [
    "surf05.variables"
   ]
  },
  {
   "cell_type": "code",
   "execution_count": null,
   "metadata": {},
   "outputs": [],
   "source": [
    "deptos = gp.read_file(\"../../../../../DATOS/GEO GT/gt-deptos-lowq-2017.geojson\")"
   ]
  },
  {
   "cell_type": "code",
   "execution_count": null,
   "metadata": {},
   "outputs": [],
   "source": [
    "lon = surf05.coords[\"xlon\"]\n",
    "lat = surf05.coords[\"xlat\"]\n",
    "lons,lats= np.meshgrid(lon-180,lat) # for this dataset, longitude is 0 through 360, so you need to subtract 180 to properly display on map"
   ]
  },
  {
   "cell_type": "code",
   "execution_count": null,
   "metadata": {},
   "outputs": [],
   "source": [
    "lon.shape"
   ]
  },
  {
   "cell_type": "code",
   "execution_count": null,
   "metadata": {},
   "outputs": [],
   "source": [
    "world = gp.read_file(\n",
    "    gp.datasets.get_path('naturalearth_lowres')\n",
    ")\n"
   ]
  },
  {
   "cell_type": "code",
   "execution_count": null,
   "metadata": {},
   "outputs": [],
   "source": [
    "lon[::5, ::5]"
   ]
  },
  {
   "cell_type": "code",
   "execution_count": null,
   "metadata": {},
   "outputs": [],
   "source": [
    "i = 34\n",
    "plt.rcParams[\"figure.figsize\"] = (10,10)\n",
    "fig, ax = plt.subplots(figsize=(15, 15))\n",
    "plcm=ax.pcolormesh(lon, lat, surf05[\"pr\"].sel(time='2010-05-29T09:00:00.000000000'), shading=\"gouraud\", vmax=0.010, vmin=0)\n",
    "deptos[deptos.CODIGO!= \"2300\"].plot(color=\"#ffffff00\", edgecolor=\"white\", ax=ax)\n",
    "xlim = ax.get_xlim()\n",
    "ylim = ax.get_ylim()\n",
    "world.plot(ax=ax, color=\"#ffffff00\", edgecolor=\"yellow\")\n",
    "ax.set_xlim(xlim)\n",
    "ax.set_ylim(ylim)\n",
    "fig.colorbar(plcm)\n",
    "qver = ax.quiver(lon[::3, ::3].values.flatten(), lat[::3, ::3].values.flatten(),\n",
    "          surf05[\"uas\"].sel(time='2010-05-29T09:00:00.000000000')[:, ::3, ::3].values.flatten(), \n",
    "          surf05[\"vas\"].sel(time='2010-05-29T09:00:00.000000000')[:, ::3, ::3].values.flatten(), color=\"white\",alpha=0.6)\n",
    "qver.set_UVC(\n",
    "          surf05[\"uas\"].sel(time='2010-05-29T09:00:00.000000000')[:, ::3, ::3].values.flatten(), \n",
    "          surf05[\"vas\"].sel(time='2010-05-29T09:00:00.000000000')[:, ::3, ::3].values.flatten())\n"
   ]
  },
  {
   "cell_type": "code",
   "execution_count": null,
   "metadata": {},
   "outputs": [],
   "source": [
    "qver.set_UVC()"
   ]
  },
  {
   "cell_type": "code",
   "execution_count": null,
   "metadata": {},
   "outputs": [],
   "source": [
    "precipData = xa.concat([surf05[\"pr\"], surf06[\"pr\"]], \"time\")"
   ]
  },
  {
   "cell_type": "code",
   "execution_count": null,
   "metadata": {},
   "outputs": [],
   "source": [
    "precipData"
   ]
  },
  {
   "cell_type": "code",
   "execution_count": null,
   "metadata": {},
   "outputs": [],
   "source": [
    "from matplotlib import animation, rc\n",
    "from IPython.display import HTML"
   ]
  },
  {
   "cell_type": "code",
   "execution_count": null,
   "metadata": {},
   "outputs": [],
   "source": [
    "plt.rcParams[\"figure.figsize\"] = (10,10)\n",
    "fig = plt.figure()\n",
    "ax = fig.gca()\n",
    "pclm=ax.pcolormesh(lon, lat, precipData.sel(time=surf05.time[6])+1e-3, norm= mpl.colors.LogNorm(vmin=1e-3, vmax=precipData.max().values), shading=\"gouraud\")\n",
    "deptos[deptos.CODIGO!= \"2300\"].plot(color=\"#ffffff00\", edgecolor=\"white\", ax=ax)\n",
    "xlim = ax.get_xlim()\n",
    "ylim = ax.get_ylim()    \n",
    "world.plot(ax=ax, color=\"#ffffff00\", edgecolor=\"yellow\")\n",
    "ax.set_xlim(xlim)\n",
    "ax.set_ylim(ylim)\n",
    "fig.colorbar(pclm, shrink=0.5)\n",
    "\n",
    "def init():\n",
    "    return (pclm,)\n",
    "    \n",
    "# animation function. This is called sequentially\n",
    "def animate(i):\n",
    "    pclm.set_array(precipData.sel(time=precipData.time[i]).values.flatten() +1e-3)\n",
    "    ax.set_title(\"Precipitation\\n\" + str(i) + \" - \"+ str(precipData.time.values[i]))\n",
    "    return (pclm,)\n",
    "\n",
    "anim = animation.FuncAnimation(fig, animate, init_func=init,\n",
    "                               frames=88, interval=300)\n",
    "                 \n",
    "HTML(anim.to_html5_video())"
   ]
  },
  {
   "cell_type": "code",
   "execution_count": null,
   "metadata": {},
   "outputs": [],
   "source": [
    "cloudData = xa.concat([surf05[\"clt\"], surf06[\"clt\"]], \"time\")\n",
    "uasData = xa.concat([surf05[\"uas\"], surf06[\"uas\"]], \"time\")\n",
    "vasData = xa.concat([surf05[\"vas\"], surf06[\"vas\"]], \"time\")"
   ]
  },
  {
   "cell_type": "code",
   "execution_count": null,
   "metadata": {},
   "outputs": [],
   "source": [
    "# con total cloud fraction:\n",
    "plt.rcParams[\"figure.figsize\"] = (10,10)\n",
    "fig, ax = plt.subplots()\n",
    "pclm=ax.pcolormesh(lon, lat, surf05[\"clt\"].sel(time=surf05.time[0]), vmax=100, vmin=0, shading=\"gouraud\")\n",
    "deptos[deptos.CODIGO!= \"2300\"].plot(color=\"#ffffff00\", edgecolor=\"white\", ax=ax)\n",
    "xlim = ax.get_xlim()\n",
    "ylim = ax.get_ylim()    \n",
    "world.plot(ax=ax, color=\"#ffffff00\", edgecolor=\"yellow\")\n",
    "ax.set_xlim(xlim)\n",
    "ax.set_ylim(ylim)\n",
    "fig.colorbar(pclm, shrink=0.5)\n",
    "qver = ax.quiver(lon[::3, ::3].values.flatten(), lat[::3, ::3].values.flatten(),\n",
    "          uasData.sel(time=cloudData.time[0])[:, ::3, ::3].values.flatten(), \n",
    "          vasData.sel(time=cloudData.time[0])[:, ::3, ::3].values.flatten(), color=\"#444444\",alpha=0.6)\n",
    "\n",
    "def init():\n",
    "    return pclm,qver,\n",
    "    \n",
    "# animation function. This is called sequentially\n",
    "def animate(i):\n",
    "    pclm.set_array(cloudData.sel(time=cloudData.time[i]).values.flatten())\n",
    "    ax.set_title(\"Total Cloud Fraction\\n\" + str(i) + \" - \"+ str(cloudData.time.values[i]))\n",
    "    qver.set_UVC(\n",
    "          uasData.sel(time=uasData.time[i])[:, ::3, ::3].values.flatten(), \n",
    "          vasData.sel(time=vasData.time[i])[:, ::3, ::3].values.flatten())\n",
    "\n",
    "    return pclm, qver,\n",
    "\n",
    "anim = animation.FuncAnimation(fig, animate, init_func=init,\n",
    "                               frames=len(cloudData), interval=300)\n",
    "                 \n",
    "HTML(anim.to_html5_video())"
   ]
  },
  {
   "cell_type": "code",
   "execution_count": null,
   "metadata": {},
   "outputs": [],
   "source": [
    "anim.save(\"Nubosidad-direccion del viento Agatha 20100525-20100605.mp4\")"
   ]
  },
  {
   "cell_type": "code",
   "execution_count": null,
   "metadata": {},
   "outputs": [],
   "source": []
  }
 ],
 "metadata": {
  "kernelspec": {
   "display_name": "Python 3",
   "language": "python",
   "name": "python3"
  },
  "language_info": {
   "codemirror_mode": {
    "name": "ipython",
    "version": 3
   },
   "file_extension": ".py",
   "mimetype": "text/x-python",
   "name": "python",
   "nbconvert_exporter": "python",
   "pygments_lexer": "ipython3",
   "version": "3.6.8"
  }
 },
 "nbformat": 4,
 "nbformat_minor": 4
}
